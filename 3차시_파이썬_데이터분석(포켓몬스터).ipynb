{
  "nbformat": 4,
  "nbformat_minor": 0,
  "metadata": {
    "colab": {
      "provenance": [],
      "authorship_tag": "ABX9TyNiPCqbrljTWzchejCnmkPq",
      "include_colab_link": true
    },
    "kernelspec": {
      "name": "python3",
      "display_name": "Python 3"
    },
    "language_info": {
      "name": "python"
    }
  },
  "cells": [
    {
      "cell_type": "markdown",
      "metadata": {
        "id": "view-in-github",
        "colab_type": "text"
      },
      "source": [
        "<a href=\"https://colab.research.google.com/github/grovy04/myPython/blob/main/3%EC%B0%A8%EC%8B%9C_%ED%8C%8C%EC%9D%B4%EC%8D%AC_%EB%8D%B0%EC%9D%B4%ED%84%B0%EB%B6%84%EC%84%9D(%ED%8F%AC%EC%BC%93%EB%AA%AC%EC%8A%A4%ED%84%B0).ipynb\" target=\"_parent\"><img src=\"https://colab.research.google.com/assets/colab-badge.svg\" alt=\"Open In Colab\"/></a>"
      ]
    },
    {
      "cell_type": "markdown",
      "source": [
        "#####1교시 : 포켓몬 데이터를 분석해보자\n",
        "캐글에 있는 포켓몬 데이터를 이용해서 데이터분석을 진행\n",
        "\n",
        "-- 오늘 사용할 라이브러리 : Pandas, Matplotlib, WordCloud\n",
        "\n",
        "    import Pandas as pd\n",
        "\n",
        "-- 사용할 포켓몬 데이터 파일 : Pokemon.csv\n",
        "\n",
        "변수명 | 의미\n",
        "- | -\n",
        "**#** | <center>포켓몬 Id number</center>\n",
        "**Name** | <center>포켓몬의 이름</center>\n",
        "**Type 1** | <center>첫 번째 속성</center>   \n",
        "**Type 2** | <center>두 번째 속성</center>\n",
        "**Total** | <center>전체 6가지 스탯의 총합</center>\n",
        "**HP** | <center>포켓몬의 체력</center>\n",
        "**Attack** | <center>물리공격력 (scratch, punch 등)</center>  \n",
        "**Defense** | <center>물리공격에 대한 방어력</center>\n",
        "**Sp. Atk** | <center>특수공격력 (fire blast, bubble beam 등)</center>  \n",
        "**Sp. Def** | <center>특수공격에 대한 방어력.</center>\n",
        "**Speed** | <center>포켓몬 매치에 대해 어떤 포켓몬이 먼저 공격할지를 결정.<br>(더 높은 포켓몬이 먼저 공격한다)</center>  \n",
        "**Generation** | <center>포켓몬의 세대. 현재 데이터에는 6세대까지 있다.</center>  \n",
        "**Legendary** | <center>전설의 포켓몬 여부</center>  \n",
        "\n",
        "    df = pd.read_csv('Pokemon.csv')"
      ],
      "metadata": {
        "id": "PcDYevTfeUOB"
      }
    },
    {
      "cell_type": "code",
      "execution_count": null,
      "metadata": {
        "id": "uNc6CNEPcA_h"
      },
      "outputs": [],
      "source": [
        "#판다스 라이브러리 가져오기\n",
        "import pandas as pd"
      ]
    },
    {
      "cell_type": "code",
      "source": [
        "#데이터 파일 읽어오기\n",
        "df = pd.read_csv('/content/Pokemon.csv')\n"
      ],
      "metadata": {
        "id": "2Wut4tc5iROU"
      },
      "execution_count": null,
      "outputs": []
    },
    {
      "cell_type": "code",
      "source": [
        "#데이터 프레임 크기 확인\n",
        "#전체 데이터가 몇 개인지, 속성은 몇 개인지 확인\n",
        "df.shape"
      ],
      "metadata": {
        "colab": {
          "base_uri": "https://localhost:8080/"
        },
        "id": "PJ8V_mrYgJFj",
        "outputId": "5a64caec-813e-4c3b-cca3-6a534494586e"
      },
      "execution_count": null,
      "outputs": [
        {
          "output_type": "execute_result",
          "data": {
            "text/plain": [
              "(800, 13)"
            ]
          },
          "metadata": {},
          "execution_count": 77
        }
      ]
    },
    {
      "cell_type": "code",
      "source": [
        "#가져온 데이터의 맨 위 n개 데이터 보기\n",
        "df.head()"
      ],
      "metadata": {
        "id": "7WJ5s2uIhK-o",
        "colab": {
          "base_uri": "https://localhost:8080/",
          "height": 206
        },
        "outputId": "12a8fc46-388b-40b2-a6ba-cafdc4ebde83"
      },
      "execution_count": null,
      "outputs": [
        {
          "output_type": "execute_result",
          "data": {
            "text/plain": [
              "   #                   Name Type 1  Type 2  Total  HP  Attack  Defense  \\\n",
              "0  1              Bulbasaur  Grass  Poison    318  45      49       49   \n",
              "1  2                Ivysaur  Grass  Poison    405  60      62       63   \n",
              "2  3               Venusaur  Grass  Poison    525  80      82       83   \n",
              "3  3  VenusaurMega Venusaur  Grass  Poison    625  80     100      123   \n",
              "4  4             Charmander   Fire     NaN    309  39      52       43   \n",
              "\n",
              "   Sp. Atk  Sp. Def  Speed  Generation  Legendary  \n",
              "0       65       65     45           1      False  \n",
              "1       80       80     60           1      False  \n",
              "2      100      100     80           1      False  \n",
              "3      122      120     80           1      False  \n",
              "4       60       50     65           1      False  "
            ],
            "text/html": [
              "\n",
              "  <div id=\"df-cae74e0c-d557-4954-b887-79017b515d40\">\n",
              "    <div class=\"colab-df-container\">\n",
              "      <div>\n",
              "<style scoped>\n",
              "    .dataframe tbody tr th:only-of-type {\n",
              "        vertical-align: middle;\n",
              "    }\n",
              "\n",
              "    .dataframe tbody tr th {\n",
              "        vertical-align: top;\n",
              "    }\n",
              "\n",
              "    .dataframe thead th {\n",
              "        text-align: right;\n",
              "    }\n",
              "</style>\n",
              "<table border=\"1\" class=\"dataframe\">\n",
              "  <thead>\n",
              "    <tr style=\"text-align: right;\">\n",
              "      <th></th>\n",
              "      <th>#</th>\n",
              "      <th>Name</th>\n",
              "      <th>Type 1</th>\n",
              "      <th>Type 2</th>\n",
              "      <th>Total</th>\n",
              "      <th>HP</th>\n",
              "      <th>Attack</th>\n",
              "      <th>Defense</th>\n",
              "      <th>Sp. Atk</th>\n",
              "      <th>Sp. Def</th>\n",
              "      <th>Speed</th>\n",
              "      <th>Generation</th>\n",
              "      <th>Legendary</th>\n",
              "    </tr>\n",
              "  </thead>\n",
              "  <tbody>\n",
              "    <tr>\n",
              "      <th>0</th>\n",
              "      <td>1</td>\n",
              "      <td>Bulbasaur</td>\n",
              "      <td>Grass</td>\n",
              "      <td>Poison</td>\n",
              "      <td>318</td>\n",
              "      <td>45</td>\n",
              "      <td>49</td>\n",
              "      <td>49</td>\n",
              "      <td>65</td>\n",
              "      <td>65</td>\n",
              "      <td>45</td>\n",
              "      <td>1</td>\n",
              "      <td>False</td>\n",
              "    </tr>\n",
              "    <tr>\n",
              "      <th>1</th>\n",
              "      <td>2</td>\n",
              "      <td>Ivysaur</td>\n",
              "      <td>Grass</td>\n",
              "      <td>Poison</td>\n",
              "      <td>405</td>\n",
              "      <td>60</td>\n",
              "      <td>62</td>\n",
              "      <td>63</td>\n",
              "      <td>80</td>\n",
              "      <td>80</td>\n",
              "      <td>60</td>\n",
              "      <td>1</td>\n",
              "      <td>False</td>\n",
              "    </tr>\n",
              "    <tr>\n",
              "      <th>2</th>\n",
              "      <td>3</td>\n",
              "      <td>Venusaur</td>\n",
              "      <td>Grass</td>\n",
              "      <td>Poison</td>\n",
              "      <td>525</td>\n",
              "      <td>80</td>\n",
              "      <td>82</td>\n",
              "      <td>83</td>\n",
              "      <td>100</td>\n",
              "      <td>100</td>\n",
              "      <td>80</td>\n",
              "      <td>1</td>\n",
              "      <td>False</td>\n",
              "    </tr>\n",
              "    <tr>\n",
              "      <th>3</th>\n",
              "      <td>3</td>\n",
              "      <td>VenusaurMega Venusaur</td>\n",
              "      <td>Grass</td>\n",
              "      <td>Poison</td>\n",
              "      <td>625</td>\n",
              "      <td>80</td>\n",
              "      <td>100</td>\n",
              "      <td>123</td>\n",
              "      <td>122</td>\n",
              "      <td>120</td>\n",
              "      <td>80</td>\n",
              "      <td>1</td>\n",
              "      <td>False</td>\n",
              "    </tr>\n",
              "    <tr>\n",
              "      <th>4</th>\n",
              "      <td>4</td>\n",
              "      <td>Charmander</td>\n",
              "      <td>Fire</td>\n",
              "      <td>NaN</td>\n",
              "      <td>309</td>\n",
              "      <td>39</td>\n",
              "      <td>52</td>\n",
              "      <td>43</td>\n",
              "      <td>60</td>\n",
              "      <td>50</td>\n",
              "      <td>65</td>\n",
              "      <td>1</td>\n",
              "      <td>False</td>\n",
              "    </tr>\n",
              "  </tbody>\n",
              "</table>\n",
              "</div>\n",
              "      <button class=\"colab-df-convert\" onclick=\"convertToInteractive('df-cae74e0c-d557-4954-b887-79017b515d40')\"\n",
              "              title=\"Convert this dataframe to an interactive table.\"\n",
              "              style=\"display:none;\">\n",
              "        \n",
              "  <svg xmlns=\"http://www.w3.org/2000/svg\" height=\"24px\"viewBox=\"0 0 24 24\"\n",
              "       width=\"24px\">\n",
              "    <path d=\"M0 0h24v24H0V0z\" fill=\"none\"/>\n",
              "    <path d=\"M18.56 5.44l.94 2.06.94-2.06 2.06-.94-2.06-.94-.94-2.06-.94 2.06-2.06.94zm-11 1L8.5 8.5l.94-2.06 2.06-.94-2.06-.94L8.5 2.5l-.94 2.06-2.06.94zm10 10l.94 2.06.94-2.06 2.06-.94-2.06-.94-.94-2.06-.94 2.06-2.06.94z\"/><path d=\"M17.41 7.96l-1.37-1.37c-.4-.4-.92-.59-1.43-.59-.52 0-1.04.2-1.43.59L10.3 9.45l-7.72 7.72c-.78.78-.78 2.05 0 2.83L4 21.41c.39.39.9.59 1.41.59.51 0 1.02-.2 1.41-.59l7.78-7.78 2.81-2.81c.8-.78.8-2.07 0-2.86zM5.41 20L4 18.59l7.72-7.72 1.47 1.35L5.41 20z\"/>\n",
              "  </svg>\n",
              "      </button>\n",
              "      \n",
              "  <style>\n",
              "    .colab-df-container {\n",
              "      display:flex;\n",
              "      flex-wrap:wrap;\n",
              "      gap: 12px;\n",
              "    }\n",
              "\n",
              "    .colab-df-convert {\n",
              "      background-color: #E8F0FE;\n",
              "      border: none;\n",
              "      border-radius: 50%;\n",
              "      cursor: pointer;\n",
              "      display: none;\n",
              "      fill: #1967D2;\n",
              "      height: 32px;\n",
              "      padding: 0 0 0 0;\n",
              "      width: 32px;\n",
              "    }\n",
              "\n",
              "    .colab-df-convert:hover {\n",
              "      background-color: #E2EBFA;\n",
              "      box-shadow: 0px 1px 2px rgba(60, 64, 67, 0.3), 0px 1px 3px 1px rgba(60, 64, 67, 0.15);\n",
              "      fill: #174EA6;\n",
              "    }\n",
              "\n",
              "    [theme=dark] .colab-df-convert {\n",
              "      background-color: #3B4455;\n",
              "      fill: #D2E3FC;\n",
              "    }\n",
              "\n",
              "    [theme=dark] .colab-df-convert:hover {\n",
              "      background-color: #434B5C;\n",
              "      box-shadow: 0px 1px 3px 1px rgba(0, 0, 0, 0.15);\n",
              "      filter: drop-shadow(0px 1px 2px rgba(0, 0, 0, 0.3));\n",
              "      fill: #FFFFFF;\n",
              "    }\n",
              "  </style>\n",
              "\n",
              "      <script>\n",
              "        const buttonEl =\n",
              "          document.querySelector('#df-cae74e0c-d557-4954-b887-79017b515d40 button.colab-df-convert');\n",
              "        buttonEl.style.display =\n",
              "          google.colab.kernel.accessAllowed ? 'block' : 'none';\n",
              "\n",
              "        async function convertToInteractive(key) {\n",
              "          const element = document.querySelector('#df-cae74e0c-d557-4954-b887-79017b515d40');\n",
              "          const dataTable =\n",
              "            await google.colab.kernel.invokeFunction('convertToInteractive',\n",
              "                                                     [key], {});\n",
              "          if (!dataTable) return;\n",
              "\n",
              "          const docLinkHtml = 'Like what you see? Visit the ' +\n",
              "            '<a target=\"_blank\" href=https://colab.research.google.com/notebooks/data_table.ipynb>data table notebook</a>'\n",
              "            + ' to learn more about interactive tables.';\n",
              "          element.innerHTML = '';\n",
              "          dataTable['output_type'] = 'display_data';\n",
              "          await google.colab.output.renderOutput(dataTable, element);\n",
              "          const docLink = document.createElement('div');\n",
              "          docLink.innerHTML = docLinkHtml;\n",
              "          element.appendChild(docLink);\n",
              "        }\n",
              "      </script>\n",
              "    </div>\n",
              "  </div>\n",
              "  "
            ]
          },
          "metadata": {},
          "execution_count": 78
        }
      ]
    },
    {
      "cell_type": "code",
      "source": [
        "#가져온 데이터의 맨 아래 n개 데이터 보기\n",
        "df.tail()"
      ],
      "metadata": {
        "id": "7neKhP9ShTtn",
        "colab": {
          "base_uri": "https://localhost:8080/",
          "height": 206
        },
        "outputId": "40d74413-7162-42ba-ed9e-d1aa5c6414ee"
      },
      "execution_count": null,
      "outputs": [
        {
          "output_type": "execute_result",
          "data": {
            "text/plain": [
              "       #                 Name   Type 1 Type 2  Total  HP  Attack  Defense  \\\n",
              "795  719              Diancie     Rock  Fairy    600  50     100      150   \n",
              "796  719  DiancieMega Diancie     Rock  Fairy    700  50     160      110   \n",
              "797  720  HoopaHoopa Confined  Psychic  Ghost    600  80     110       60   \n",
              "798  720   HoopaHoopa Unbound  Psychic   Dark    680  80     160       60   \n",
              "799  721            Volcanion     Fire  Water    600  80     110      120   \n",
              "\n",
              "     Sp. Atk  Sp. Def  Speed  Generation  Legendary  \n",
              "795      100      150     50           6       True  \n",
              "796      160      110    110           6       True  \n",
              "797      150      130     70           6       True  \n",
              "798      170      130     80           6       True  \n",
              "799      130       90     70           6       True  "
            ],
            "text/html": [
              "\n",
              "  <div id=\"df-60a8794e-75cc-4154-8b2f-ebf2d63ab6dc\">\n",
              "    <div class=\"colab-df-container\">\n",
              "      <div>\n",
              "<style scoped>\n",
              "    .dataframe tbody tr th:only-of-type {\n",
              "        vertical-align: middle;\n",
              "    }\n",
              "\n",
              "    .dataframe tbody tr th {\n",
              "        vertical-align: top;\n",
              "    }\n",
              "\n",
              "    .dataframe thead th {\n",
              "        text-align: right;\n",
              "    }\n",
              "</style>\n",
              "<table border=\"1\" class=\"dataframe\">\n",
              "  <thead>\n",
              "    <tr style=\"text-align: right;\">\n",
              "      <th></th>\n",
              "      <th>#</th>\n",
              "      <th>Name</th>\n",
              "      <th>Type 1</th>\n",
              "      <th>Type 2</th>\n",
              "      <th>Total</th>\n",
              "      <th>HP</th>\n",
              "      <th>Attack</th>\n",
              "      <th>Defense</th>\n",
              "      <th>Sp. Atk</th>\n",
              "      <th>Sp. Def</th>\n",
              "      <th>Speed</th>\n",
              "      <th>Generation</th>\n",
              "      <th>Legendary</th>\n",
              "    </tr>\n",
              "  </thead>\n",
              "  <tbody>\n",
              "    <tr>\n",
              "      <th>795</th>\n",
              "      <td>719</td>\n",
              "      <td>Diancie</td>\n",
              "      <td>Rock</td>\n",
              "      <td>Fairy</td>\n",
              "      <td>600</td>\n",
              "      <td>50</td>\n",
              "      <td>100</td>\n",
              "      <td>150</td>\n",
              "      <td>100</td>\n",
              "      <td>150</td>\n",
              "      <td>50</td>\n",
              "      <td>6</td>\n",
              "      <td>True</td>\n",
              "    </tr>\n",
              "    <tr>\n",
              "      <th>796</th>\n",
              "      <td>719</td>\n",
              "      <td>DiancieMega Diancie</td>\n",
              "      <td>Rock</td>\n",
              "      <td>Fairy</td>\n",
              "      <td>700</td>\n",
              "      <td>50</td>\n",
              "      <td>160</td>\n",
              "      <td>110</td>\n",
              "      <td>160</td>\n",
              "      <td>110</td>\n",
              "      <td>110</td>\n",
              "      <td>6</td>\n",
              "      <td>True</td>\n",
              "    </tr>\n",
              "    <tr>\n",
              "      <th>797</th>\n",
              "      <td>720</td>\n",
              "      <td>HoopaHoopa Confined</td>\n",
              "      <td>Psychic</td>\n",
              "      <td>Ghost</td>\n",
              "      <td>600</td>\n",
              "      <td>80</td>\n",
              "      <td>110</td>\n",
              "      <td>60</td>\n",
              "      <td>150</td>\n",
              "      <td>130</td>\n",
              "      <td>70</td>\n",
              "      <td>6</td>\n",
              "      <td>True</td>\n",
              "    </tr>\n",
              "    <tr>\n",
              "      <th>798</th>\n",
              "      <td>720</td>\n",
              "      <td>HoopaHoopa Unbound</td>\n",
              "      <td>Psychic</td>\n",
              "      <td>Dark</td>\n",
              "      <td>680</td>\n",
              "      <td>80</td>\n",
              "      <td>160</td>\n",
              "      <td>60</td>\n",
              "      <td>170</td>\n",
              "      <td>130</td>\n",
              "      <td>80</td>\n",
              "      <td>6</td>\n",
              "      <td>True</td>\n",
              "    </tr>\n",
              "    <tr>\n",
              "      <th>799</th>\n",
              "      <td>721</td>\n",
              "      <td>Volcanion</td>\n",
              "      <td>Fire</td>\n",
              "      <td>Water</td>\n",
              "      <td>600</td>\n",
              "      <td>80</td>\n",
              "      <td>110</td>\n",
              "      <td>120</td>\n",
              "      <td>130</td>\n",
              "      <td>90</td>\n",
              "      <td>70</td>\n",
              "      <td>6</td>\n",
              "      <td>True</td>\n",
              "    </tr>\n",
              "  </tbody>\n",
              "</table>\n",
              "</div>\n",
              "      <button class=\"colab-df-convert\" onclick=\"convertToInteractive('df-60a8794e-75cc-4154-8b2f-ebf2d63ab6dc')\"\n",
              "              title=\"Convert this dataframe to an interactive table.\"\n",
              "              style=\"display:none;\">\n",
              "        \n",
              "  <svg xmlns=\"http://www.w3.org/2000/svg\" height=\"24px\"viewBox=\"0 0 24 24\"\n",
              "       width=\"24px\">\n",
              "    <path d=\"M0 0h24v24H0V0z\" fill=\"none\"/>\n",
              "    <path d=\"M18.56 5.44l.94 2.06.94-2.06 2.06-.94-2.06-.94-.94-2.06-.94 2.06-2.06.94zm-11 1L8.5 8.5l.94-2.06 2.06-.94-2.06-.94L8.5 2.5l-.94 2.06-2.06.94zm10 10l.94 2.06.94-2.06 2.06-.94-2.06-.94-.94-2.06-.94 2.06-2.06.94z\"/><path d=\"M17.41 7.96l-1.37-1.37c-.4-.4-.92-.59-1.43-.59-.52 0-1.04.2-1.43.59L10.3 9.45l-7.72 7.72c-.78.78-.78 2.05 0 2.83L4 21.41c.39.39.9.59 1.41.59.51 0 1.02-.2 1.41-.59l7.78-7.78 2.81-2.81c.8-.78.8-2.07 0-2.86zM5.41 20L4 18.59l7.72-7.72 1.47 1.35L5.41 20z\"/>\n",
              "  </svg>\n",
              "      </button>\n",
              "      \n",
              "  <style>\n",
              "    .colab-df-container {\n",
              "      display:flex;\n",
              "      flex-wrap:wrap;\n",
              "      gap: 12px;\n",
              "    }\n",
              "\n",
              "    .colab-df-convert {\n",
              "      background-color: #E8F0FE;\n",
              "      border: none;\n",
              "      border-radius: 50%;\n",
              "      cursor: pointer;\n",
              "      display: none;\n",
              "      fill: #1967D2;\n",
              "      height: 32px;\n",
              "      padding: 0 0 0 0;\n",
              "      width: 32px;\n",
              "    }\n",
              "\n",
              "    .colab-df-convert:hover {\n",
              "      background-color: #E2EBFA;\n",
              "      box-shadow: 0px 1px 2px rgba(60, 64, 67, 0.3), 0px 1px 3px 1px rgba(60, 64, 67, 0.15);\n",
              "      fill: #174EA6;\n",
              "    }\n",
              "\n",
              "    [theme=dark] .colab-df-convert {\n",
              "      background-color: #3B4455;\n",
              "      fill: #D2E3FC;\n",
              "    }\n",
              "\n",
              "    [theme=dark] .colab-df-convert:hover {\n",
              "      background-color: #434B5C;\n",
              "      box-shadow: 0px 1px 3px 1px rgba(0, 0, 0, 0.15);\n",
              "      filter: drop-shadow(0px 1px 2px rgba(0, 0, 0, 0.3));\n",
              "      fill: #FFFFFF;\n",
              "    }\n",
              "  </style>\n",
              "\n",
              "      <script>\n",
              "        const buttonEl =\n",
              "          document.querySelector('#df-60a8794e-75cc-4154-8b2f-ebf2d63ab6dc button.colab-df-convert');\n",
              "        buttonEl.style.display =\n",
              "          google.colab.kernel.accessAllowed ? 'block' : 'none';\n",
              "\n",
              "        async function convertToInteractive(key) {\n",
              "          const element = document.querySelector('#df-60a8794e-75cc-4154-8b2f-ebf2d63ab6dc');\n",
              "          const dataTable =\n",
              "            await google.colab.kernel.invokeFunction('convertToInteractive',\n",
              "                                                     [key], {});\n",
              "          if (!dataTable) return;\n",
              "\n",
              "          const docLinkHtml = 'Like what you see? Visit the ' +\n",
              "            '<a target=\"_blank\" href=https://colab.research.google.com/notebooks/data_table.ipynb>data table notebook</a>'\n",
              "            + ' to learn more about interactive tables.';\n",
              "          element.innerHTML = '';\n",
              "          dataTable['output_type'] = 'display_data';\n",
              "          await google.colab.output.renderOutput(dataTable, element);\n",
              "          const docLink = document.createElement('div');\n",
              "          docLink.innerHTML = docLinkHtml;\n",
              "          element.appendChild(docLink);\n",
              "        }\n",
              "      </script>\n",
              "    </div>\n",
              "  </div>\n",
              "  "
            ]
          },
          "metadata": {},
          "execution_count": 79
        }
      ]
    },
    {
      "cell_type": "markdown",
      "source": [
        "-- 데이터 프레임에서 필요없는 컬럼 삭제하기\n",
        "\n",
        "-- 삭제했다고 데이터프레임에서 없어지는 것은 아님\n",
        "\n",
        "-- 삭제한 상태의 데이터프레임으로 replace할 것\n",
        "\n",
        "```\n",
        "df.drop(columns = ['컬럼명'])\n",
        "```"
      ],
      "metadata": {
        "id": "sFaeMh8I4hL1"
      }
    },
    {
      "cell_type": "code",
      "source": [
        "#불필요하다고 판단한 속성 삭제하기\n",
        "df.drop(columns=['#'])\n",
        "df.head()\n",
        "\n",
        "#다른 데이터 프레임 만들어서 속성이 삭제된 데이터 저장하기\n",
        "df1 = df.drop(columns = ['#'])\n",
        "df1.head()\n"
      ],
      "metadata": {
        "id": "THsquNJUqHEa",
        "colab": {
          "base_uri": "https://localhost:8080/",
          "height": 206
        },
        "outputId": "40b2fc11-d87b-40ed-dd08-c0b021d4c556"
      },
      "execution_count": null,
      "outputs": [
        {
          "output_type": "execute_result",
          "data": {
            "text/plain": [
              "                    Name Type 1  Type 2  Total  HP  Attack  Defense  Sp. Atk  \\\n",
              "0              Bulbasaur  Grass  Poison    318  45      49       49       65   \n",
              "1                Ivysaur  Grass  Poison    405  60      62       63       80   \n",
              "2               Venusaur  Grass  Poison    525  80      82       83      100   \n",
              "3  VenusaurMega Venusaur  Grass  Poison    625  80     100      123      122   \n",
              "4             Charmander   Fire     NaN    309  39      52       43       60   \n",
              "\n",
              "   Sp. Def  Speed  Generation  Legendary  \n",
              "0       65     45           1      False  \n",
              "1       80     60           1      False  \n",
              "2      100     80           1      False  \n",
              "3      120     80           1      False  \n",
              "4       50     65           1      False  "
            ],
            "text/html": [
              "\n",
              "  <div id=\"df-b523c58f-209b-4371-aab8-30b6b96c4cf8\">\n",
              "    <div class=\"colab-df-container\">\n",
              "      <div>\n",
              "<style scoped>\n",
              "    .dataframe tbody tr th:only-of-type {\n",
              "        vertical-align: middle;\n",
              "    }\n",
              "\n",
              "    .dataframe tbody tr th {\n",
              "        vertical-align: top;\n",
              "    }\n",
              "\n",
              "    .dataframe thead th {\n",
              "        text-align: right;\n",
              "    }\n",
              "</style>\n",
              "<table border=\"1\" class=\"dataframe\">\n",
              "  <thead>\n",
              "    <tr style=\"text-align: right;\">\n",
              "      <th></th>\n",
              "      <th>Name</th>\n",
              "      <th>Type 1</th>\n",
              "      <th>Type 2</th>\n",
              "      <th>Total</th>\n",
              "      <th>HP</th>\n",
              "      <th>Attack</th>\n",
              "      <th>Defense</th>\n",
              "      <th>Sp. Atk</th>\n",
              "      <th>Sp. Def</th>\n",
              "      <th>Speed</th>\n",
              "      <th>Generation</th>\n",
              "      <th>Legendary</th>\n",
              "    </tr>\n",
              "  </thead>\n",
              "  <tbody>\n",
              "    <tr>\n",
              "      <th>0</th>\n",
              "      <td>Bulbasaur</td>\n",
              "      <td>Grass</td>\n",
              "      <td>Poison</td>\n",
              "      <td>318</td>\n",
              "      <td>45</td>\n",
              "      <td>49</td>\n",
              "      <td>49</td>\n",
              "      <td>65</td>\n",
              "      <td>65</td>\n",
              "      <td>45</td>\n",
              "      <td>1</td>\n",
              "      <td>False</td>\n",
              "    </tr>\n",
              "    <tr>\n",
              "      <th>1</th>\n",
              "      <td>Ivysaur</td>\n",
              "      <td>Grass</td>\n",
              "      <td>Poison</td>\n",
              "      <td>405</td>\n",
              "      <td>60</td>\n",
              "      <td>62</td>\n",
              "      <td>63</td>\n",
              "      <td>80</td>\n",
              "      <td>80</td>\n",
              "      <td>60</td>\n",
              "      <td>1</td>\n",
              "      <td>False</td>\n",
              "    </tr>\n",
              "    <tr>\n",
              "      <th>2</th>\n",
              "      <td>Venusaur</td>\n",
              "      <td>Grass</td>\n",
              "      <td>Poison</td>\n",
              "      <td>525</td>\n",
              "      <td>80</td>\n",
              "      <td>82</td>\n",
              "      <td>83</td>\n",
              "      <td>100</td>\n",
              "      <td>100</td>\n",
              "      <td>80</td>\n",
              "      <td>1</td>\n",
              "      <td>False</td>\n",
              "    </tr>\n",
              "    <tr>\n",
              "      <th>3</th>\n",
              "      <td>VenusaurMega Venusaur</td>\n",
              "      <td>Grass</td>\n",
              "      <td>Poison</td>\n",
              "      <td>625</td>\n",
              "      <td>80</td>\n",
              "      <td>100</td>\n",
              "      <td>123</td>\n",
              "      <td>122</td>\n",
              "      <td>120</td>\n",
              "      <td>80</td>\n",
              "      <td>1</td>\n",
              "      <td>False</td>\n",
              "    </tr>\n",
              "    <tr>\n",
              "      <th>4</th>\n",
              "      <td>Charmander</td>\n",
              "      <td>Fire</td>\n",
              "      <td>NaN</td>\n",
              "      <td>309</td>\n",
              "      <td>39</td>\n",
              "      <td>52</td>\n",
              "      <td>43</td>\n",
              "      <td>60</td>\n",
              "      <td>50</td>\n",
              "      <td>65</td>\n",
              "      <td>1</td>\n",
              "      <td>False</td>\n",
              "    </tr>\n",
              "  </tbody>\n",
              "</table>\n",
              "</div>\n",
              "      <button class=\"colab-df-convert\" onclick=\"convertToInteractive('df-b523c58f-209b-4371-aab8-30b6b96c4cf8')\"\n",
              "              title=\"Convert this dataframe to an interactive table.\"\n",
              "              style=\"display:none;\">\n",
              "        \n",
              "  <svg xmlns=\"http://www.w3.org/2000/svg\" height=\"24px\"viewBox=\"0 0 24 24\"\n",
              "       width=\"24px\">\n",
              "    <path d=\"M0 0h24v24H0V0z\" fill=\"none\"/>\n",
              "    <path d=\"M18.56 5.44l.94 2.06.94-2.06 2.06-.94-2.06-.94-.94-2.06-.94 2.06-2.06.94zm-11 1L8.5 8.5l.94-2.06 2.06-.94-2.06-.94L8.5 2.5l-.94 2.06-2.06.94zm10 10l.94 2.06.94-2.06 2.06-.94-2.06-.94-.94-2.06-.94 2.06-2.06.94z\"/><path d=\"M17.41 7.96l-1.37-1.37c-.4-.4-.92-.59-1.43-.59-.52 0-1.04.2-1.43.59L10.3 9.45l-7.72 7.72c-.78.78-.78 2.05 0 2.83L4 21.41c.39.39.9.59 1.41.59.51 0 1.02-.2 1.41-.59l7.78-7.78 2.81-2.81c.8-.78.8-2.07 0-2.86zM5.41 20L4 18.59l7.72-7.72 1.47 1.35L5.41 20z\"/>\n",
              "  </svg>\n",
              "      </button>\n",
              "      \n",
              "  <style>\n",
              "    .colab-df-container {\n",
              "      display:flex;\n",
              "      flex-wrap:wrap;\n",
              "      gap: 12px;\n",
              "    }\n",
              "\n",
              "    .colab-df-convert {\n",
              "      background-color: #E8F0FE;\n",
              "      border: none;\n",
              "      border-radius: 50%;\n",
              "      cursor: pointer;\n",
              "      display: none;\n",
              "      fill: #1967D2;\n",
              "      height: 32px;\n",
              "      padding: 0 0 0 0;\n",
              "      width: 32px;\n",
              "    }\n",
              "\n",
              "    .colab-df-convert:hover {\n",
              "      background-color: #E2EBFA;\n",
              "      box-shadow: 0px 1px 2px rgba(60, 64, 67, 0.3), 0px 1px 3px 1px rgba(60, 64, 67, 0.15);\n",
              "      fill: #174EA6;\n",
              "    }\n",
              "\n",
              "    [theme=dark] .colab-df-convert {\n",
              "      background-color: #3B4455;\n",
              "      fill: #D2E3FC;\n",
              "    }\n",
              "\n",
              "    [theme=dark] .colab-df-convert:hover {\n",
              "      background-color: #434B5C;\n",
              "      box-shadow: 0px 1px 3px 1px rgba(0, 0, 0, 0.15);\n",
              "      filter: drop-shadow(0px 1px 2px rgba(0, 0, 0, 0.3));\n",
              "      fill: #FFFFFF;\n",
              "    }\n",
              "  </style>\n",
              "\n",
              "      <script>\n",
              "        const buttonEl =\n",
              "          document.querySelector('#df-b523c58f-209b-4371-aab8-30b6b96c4cf8 button.colab-df-convert');\n",
              "        buttonEl.style.display =\n",
              "          google.colab.kernel.accessAllowed ? 'block' : 'none';\n",
              "\n",
              "        async function convertToInteractive(key) {\n",
              "          const element = document.querySelector('#df-b523c58f-209b-4371-aab8-30b6b96c4cf8');\n",
              "          const dataTable =\n",
              "            await google.colab.kernel.invokeFunction('convertToInteractive',\n",
              "                                                     [key], {});\n",
              "          if (!dataTable) return;\n",
              "\n",
              "          const docLinkHtml = 'Like what you see? Visit the ' +\n",
              "            '<a target=\"_blank\" href=https://colab.research.google.com/notebooks/data_table.ipynb>data table notebook</a>'\n",
              "            + ' to learn more about interactive tables.';\n",
              "          element.innerHTML = '';\n",
              "          dataTable['output_type'] = 'display_data';\n",
              "          await google.colab.output.renderOutput(dataTable, element);\n",
              "          const docLink = document.createElement('div');\n",
              "          docLink.innerHTML = docLinkHtml;\n",
              "          element.appendChild(docLink);\n",
              "        }\n",
              "      </script>\n",
              "    </div>\n",
              "  </div>\n",
              "  "
            ]
          },
          "metadata": {},
          "execution_count": 80
        }
      ]
    },
    {
      "cell_type": "markdown",
      "source": [
        "-- 결측치 확인하고, 있으면 삭제\n",
        "```\n",
        "pkemon.isnull()\n",
        "```\n",
        "-- NaN은 ' '로 대체\n",
        "\n",
        "-- source 제공-지우지 마세요\n"
      ],
      "metadata": {
        "id": "N-OyNAtA8ztn"
      }
    },
    {
      "cell_type": "code",
      "source": [
        "import numpy as np\n",
        "df1.info()\n",
        "df1['Type 2'] = df['Type 2'].replace(np.nan, ' ')\n",
        "df1.dropna(inplace=True)\n",
        "df1.isnull().sum()"
      ],
      "metadata": {
        "id": "lx0f_Cy_83fr",
        "colab": {
          "base_uri": "https://localhost:8080/"
        },
        "outputId": "afcb7807-d2e4-46fe-cc79-344e97065705"
      },
      "execution_count": null,
      "outputs": [
        {
          "output_type": "stream",
          "name": "stdout",
          "text": [
            "<class 'pandas.core.frame.DataFrame'>\n",
            "RangeIndex: 800 entries, 0 to 799\n",
            "Data columns (total 12 columns):\n",
            " #   Column      Non-Null Count  Dtype \n",
            "---  ------      --------------  ----- \n",
            " 0   Name        800 non-null    object\n",
            " 1   Type 1      800 non-null    object\n",
            " 2   Type 2      414 non-null    object\n",
            " 3   Total       800 non-null    int64 \n",
            " 4   HP          800 non-null    int64 \n",
            " 5   Attack      800 non-null    int64 \n",
            " 6   Defense     800 non-null    int64 \n",
            " 7   Sp. Atk     800 non-null    int64 \n",
            " 8   Sp. Def     800 non-null    int64 \n",
            " 9   Speed       800 non-null    int64 \n",
            " 10  Generation  800 non-null    int64 \n",
            " 11  Legendary   800 non-null    bool  \n",
            "dtypes: bool(1), int64(8), object(3)\n",
            "memory usage: 69.7+ KB\n"
          ]
        },
        {
          "output_type": "execute_result",
          "data": {
            "text/plain": [
              "Name          0\n",
              "Type 1        0\n",
              "Type 2        0\n",
              "Total         0\n",
              "HP            0\n",
              "Attack        0\n",
              "Defense       0\n",
              "Sp. Atk       0\n",
              "Sp. Def       0\n",
              "Speed         0\n",
              "Generation    0\n",
              "Legendary     0\n",
              "dtype: int64"
            ]
          },
          "metadata": {},
          "execution_count": 81
        }
      ]
    },
    {
      "cell_type": "markdown",
      "source": [
        "--\n",
        "데이터프레임의 특정 컬럼의 데이터 갯수\n",
        "```\n",
        "df1['컬럼명'].value_counts()\n",
        "```"
      ],
      "metadata": {
        "id": "sOSyhbCB3hG8"
      }
    },
    {
      "cell_type": "code",
      "source": [
        "#포켓몬스터의 종류는? 가장 흔한 타입 또는 가장 희귀한 타입은?\n",
        "\n",
        "df1['Type 1'].value_counts()"
      ],
      "metadata": {
        "id": "g5QDl-Ir1513",
        "colab": {
          "base_uri": "https://localhost:8080/"
        },
        "outputId": "1edfc7c2-20e8-4162-8af0-3dc1ff0d5b30"
      },
      "execution_count": null,
      "outputs": [
        {
          "output_type": "execute_result",
          "data": {
            "text/plain": [
              "Water       112\n",
              "Normal       98\n",
              "Grass        70\n",
              "Bug          69\n",
              "Psychic      57\n",
              "Fire         52\n",
              "Electric     44\n",
              "Rock         44\n",
              "Dragon       32\n",
              "Ground       32\n",
              "Ghost        32\n",
              "Dark         31\n",
              "Poison       28\n",
              "Steel        27\n",
              "Fighting     27\n",
              "Ice          24\n",
              "Fairy        17\n",
              "Flying        4\n",
              "Name: Type 1, dtype: int64"
            ]
          },
          "metadata": {},
          "execution_count": 82
        }
      ]
    },
    {
      "cell_type": "code",
      "source": [
        "df1['Type 2'].value_counts()"
      ],
      "metadata": {
        "colab": {
          "base_uri": "https://localhost:8080/"
        },
        "id": "jfVn-0iJHPqc",
        "outputId": "9d7db561-5e3d-4ecf-fec2-cf26c191fd37"
      },
      "execution_count": null,
      "outputs": [
        {
          "output_type": "execute_result",
          "data": {
            "text/plain": [
              "            386\n",
              "Flying       97\n",
              "Ground       35\n",
              "Poison       34\n",
              "Psychic      33\n",
              "Fighting     26\n",
              "Grass        25\n",
              "Fairy        23\n",
              "Steel        22\n",
              "Dark         20\n",
              "Dragon       18\n",
              "Ice          14\n",
              "Rock         14\n",
              "Water        14\n",
              "Ghost        14\n",
              "Fire         12\n",
              "Electric      6\n",
              "Normal        4\n",
              "Bug           3\n",
              "Name: Type 2, dtype: int64"
            ]
          },
          "metadata": {},
          "execution_count": 102
        }
      ]
    },
    {
      "cell_type": "code",
      "source": [
        "#배포본에서는 지울 것\n",
        "#각 컬럼(속성)의 값\n",
        "df1['Type 1']  #시리즈 보여줄 것\n",
        "df1['Type 1'] == 'Flying'  #시리즈 중에서 값이 Flying인 것만 True/False로 값을 보여줌\n",
        "#df1[] 데이터 중에서 df1['Type 1'] == 'Flying'인 데이터만 가져옴\n",
        "df1[df1['Type 1'] == 'Flying']"
      ],
      "metadata": {
        "id": "uzSjrbldth5N",
        "colab": {
          "base_uri": "https://localhost:8080/",
          "height": 174
        },
        "outputId": "0b3bf7cd-8e5c-435a-fef6-f2878640dfef"
      },
      "execution_count": null,
      "outputs": [
        {
          "output_type": "execute_result",
          "data": {
            "text/plain": [
              "                        Name  Type 1  Type 2  Total  HP  Attack  Defense  \\\n",
              "702  TornadusIncarnate Forme  Flying            580  79     115       70   \n",
              "703    TornadusTherian Forme  Flying            580  79     100       80   \n",
              "790                   Noibat  Flying  Dragon    245  40      30       35   \n",
              "791                  Noivern  Flying  Dragon    535  85      70       80   \n",
              "\n",
              "     Sp. Atk  Sp. Def  Speed  Generation  Legendary  \n",
              "702      125       80    111           5       True  \n",
              "703      110       90    121           5       True  \n",
              "790       45       40     55           6      False  \n",
              "791       97       80    123           6      False  "
            ],
            "text/html": [
              "\n",
              "  <div id=\"df-2804b5ee-60a9-4a52-ac90-8bfbbd71b895\">\n",
              "    <div class=\"colab-df-container\">\n",
              "      <div>\n",
              "<style scoped>\n",
              "    .dataframe tbody tr th:only-of-type {\n",
              "        vertical-align: middle;\n",
              "    }\n",
              "\n",
              "    .dataframe tbody tr th {\n",
              "        vertical-align: top;\n",
              "    }\n",
              "\n",
              "    .dataframe thead th {\n",
              "        text-align: right;\n",
              "    }\n",
              "</style>\n",
              "<table border=\"1\" class=\"dataframe\">\n",
              "  <thead>\n",
              "    <tr style=\"text-align: right;\">\n",
              "      <th></th>\n",
              "      <th>Name</th>\n",
              "      <th>Type 1</th>\n",
              "      <th>Type 2</th>\n",
              "      <th>Total</th>\n",
              "      <th>HP</th>\n",
              "      <th>Attack</th>\n",
              "      <th>Defense</th>\n",
              "      <th>Sp. Atk</th>\n",
              "      <th>Sp. Def</th>\n",
              "      <th>Speed</th>\n",
              "      <th>Generation</th>\n",
              "      <th>Legendary</th>\n",
              "    </tr>\n",
              "  </thead>\n",
              "  <tbody>\n",
              "    <tr>\n",
              "      <th>702</th>\n",
              "      <td>TornadusIncarnate Forme</td>\n",
              "      <td>Flying</td>\n",
              "      <td></td>\n",
              "      <td>580</td>\n",
              "      <td>79</td>\n",
              "      <td>115</td>\n",
              "      <td>70</td>\n",
              "      <td>125</td>\n",
              "      <td>80</td>\n",
              "      <td>111</td>\n",
              "      <td>5</td>\n",
              "      <td>True</td>\n",
              "    </tr>\n",
              "    <tr>\n",
              "      <th>703</th>\n",
              "      <td>TornadusTherian Forme</td>\n",
              "      <td>Flying</td>\n",
              "      <td></td>\n",
              "      <td>580</td>\n",
              "      <td>79</td>\n",
              "      <td>100</td>\n",
              "      <td>80</td>\n",
              "      <td>110</td>\n",
              "      <td>90</td>\n",
              "      <td>121</td>\n",
              "      <td>5</td>\n",
              "      <td>True</td>\n",
              "    </tr>\n",
              "    <tr>\n",
              "      <th>790</th>\n",
              "      <td>Noibat</td>\n",
              "      <td>Flying</td>\n",
              "      <td>Dragon</td>\n",
              "      <td>245</td>\n",
              "      <td>40</td>\n",
              "      <td>30</td>\n",
              "      <td>35</td>\n",
              "      <td>45</td>\n",
              "      <td>40</td>\n",
              "      <td>55</td>\n",
              "      <td>6</td>\n",
              "      <td>False</td>\n",
              "    </tr>\n",
              "    <tr>\n",
              "      <th>791</th>\n",
              "      <td>Noivern</td>\n",
              "      <td>Flying</td>\n",
              "      <td>Dragon</td>\n",
              "      <td>535</td>\n",
              "      <td>85</td>\n",
              "      <td>70</td>\n",
              "      <td>80</td>\n",
              "      <td>97</td>\n",
              "      <td>80</td>\n",
              "      <td>123</td>\n",
              "      <td>6</td>\n",
              "      <td>False</td>\n",
              "    </tr>\n",
              "  </tbody>\n",
              "</table>\n",
              "</div>\n",
              "      <button class=\"colab-df-convert\" onclick=\"convertToInteractive('df-2804b5ee-60a9-4a52-ac90-8bfbbd71b895')\"\n",
              "              title=\"Convert this dataframe to an interactive table.\"\n",
              "              style=\"display:none;\">\n",
              "        \n",
              "  <svg xmlns=\"http://www.w3.org/2000/svg\" height=\"24px\"viewBox=\"0 0 24 24\"\n",
              "       width=\"24px\">\n",
              "    <path d=\"M0 0h24v24H0V0z\" fill=\"none\"/>\n",
              "    <path d=\"M18.56 5.44l.94 2.06.94-2.06 2.06-.94-2.06-.94-.94-2.06-.94 2.06-2.06.94zm-11 1L8.5 8.5l.94-2.06 2.06-.94-2.06-.94L8.5 2.5l-.94 2.06-2.06.94zm10 10l.94 2.06.94-2.06 2.06-.94-2.06-.94-.94-2.06-.94 2.06-2.06.94z\"/><path d=\"M17.41 7.96l-1.37-1.37c-.4-.4-.92-.59-1.43-.59-.52 0-1.04.2-1.43.59L10.3 9.45l-7.72 7.72c-.78.78-.78 2.05 0 2.83L4 21.41c.39.39.9.59 1.41.59.51 0 1.02-.2 1.41-.59l7.78-7.78 2.81-2.81c.8-.78.8-2.07 0-2.86zM5.41 20L4 18.59l7.72-7.72 1.47 1.35L5.41 20z\"/>\n",
              "  </svg>\n",
              "      </button>\n",
              "      \n",
              "  <style>\n",
              "    .colab-df-container {\n",
              "      display:flex;\n",
              "      flex-wrap:wrap;\n",
              "      gap: 12px;\n",
              "    }\n",
              "\n",
              "    .colab-df-convert {\n",
              "      background-color: #E8F0FE;\n",
              "      border: none;\n",
              "      border-radius: 50%;\n",
              "      cursor: pointer;\n",
              "      display: none;\n",
              "      fill: #1967D2;\n",
              "      height: 32px;\n",
              "      padding: 0 0 0 0;\n",
              "      width: 32px;\n",
              "    }\n",
              "\n",
              "    .colab-df-convert:hover {\n",
              "      background-color: #E2EBFA;\n",
              "      box-shadow: 0px 1px 2px rgba(60, 64, 67, 0.3), 0px 1px 3px 1px rgba(60, 64, 67, 0.15);\n",
              "      fill: #174EA6;\n",
              "    }\n",
              "\n",
              "    [theme=dark] .colab-df-convert {\n",
              "      background-color: #3B4455;\n",
              "      fill: #D2E3FC;\n",
              "    }\n",
              "\n",
              "    [theme=dark] .colab-df-convert:hover {\n",
              "      background-color: #434B5C;\n",
              "      box-shadow: 0px 1px 3px 1px rgba(0, 0, 0, 0.15);\n",
              "      filter: drop-shadow(0px 1px 2px rgba(0, 0, 0, 0.3));\n",
              "      fill: #FFFFFF;\n",
              "    }\n",
              "  </style>\n",
              "\n",
              "      <script>\n",
              "        const buttonEl =\n",
              "          document.querySelector('#df-2804b5ee-60a9-4a52-ac90-8bfbbd71b895 button.colab-df-convert');\n",
              "        buttonEl.style.display =\n",
              "          google.colab.kernel.accessAllowed ? 'block' : 'none';\n",
              "\n",
              "        async function convertToInteractive(key) {\n",
              "          const element = document.querySelector('#df-2804b5ee-60a9-4a52-ac90-8bfbbd71b895');\n",
              "          const dataTable =\n",
              "            await google.colab.kernel.invokeFunction('convertToInteractive',\n",
              "                                                     [key], {});\n",
              "          if (!dataTable) return;\n",
              "\n",
              "          const docLinkHtml = 'Like what you see? Visit the ' +\n",
              "            '<a target=\"_blank\" href=https://colab.research.google.com/notebooks/data_table.ipynb>data table notebook</a>'\n",
              "            + ' to learn more about interactive tables.';\n",
              "          element.innerHTML = '';\n",
              "          dataTable['output_type'] = 'display_data';\n",
              "          await google.colab.output.renderOutput(dataTable, element);\n",
              "          const docLink = document.createElement('div');\n",
              "          docLink.innerHTML = docLinkHtml;\n",
              "          element.appendChild(docLink);\n",
              "        }\n",
              "      </script>\n",
              "    </div>\n",
              "  </div>\n",
              "  "
            ]
          },
          "metadata": {},
          "execution_count": 83
        }
      ]
    },
    {
      "cell_type": "code",
      "source": [
        "#가장 희귀한 타입의 포켓몬스터는 누굴까?\n",
        "df1[df1['Type 1'] == 'Flying']\n",
        "\n",
        "#가장 흔한 타입의 포켓몬스터는 누굴까?\n",
        "df1[df1['Type 1'] == 'Water']"
      ],
      "metadata": {
        "id": "3yPr6YH54CHu",
        "colab": {
          "base_uri": "https://localhost:8080/",
          "height": 423
        },
        "outputId": "37c0bdc4-10fe-4a94-ac4c-72241c5a2811"
      },
      "execution_count": null,
      "outputs": [
        {
          "output_type": "execute_result",
          "data": {
            "text/plain": [
              "                        Name Type 1 Type 2  Total  HP  Attack  Defense  \\\n",
              "9                   Squirtle  Water           314  44      48       65   \n",
              "10                 Wartortle  Water           405  59      63       80   \n",
              "11                 Blastoise  Water           530  79      83      100   \n",
              "12   BlastoiseMega Blastoise  Water           630  79     103      120   \n",
              "59                   Psyduck  Water           320  50      52       48   \n",
              "..                       ...    ...    ...    ...  ..     ...      ...   \n",
              "724                  Froakie  Water           314  41      56       40   \n",
              "725                Frogadier  Water           405  54      63       52   \n",
              "726                 Greninja  Water   Dark    530  72      95       67   \n",
              "762                Clauncher  Water           330  50      53       62   \n",
              "763                Clawitzer  Water           500  71      73       88   \n",
              "\n",
              "     Sp. Atk  Sp. Def  Speed  Generation  Legendary  \n",
              "9         50       64     43           1      False  \n",
              "10        65       80     58           1      False  \n",
              "11        85      105     78           1      False  \n",
              "12       135      115     78           1      False  \n",
              "59        65       50     55           1      False  \n",
              "..       ...      ...    ...         ...        ...  \n",
              "724       62       44     71           6      False  \n",
              "725       83       56     97           6      False  \n",
              "726      103       71    122           6      False  \n",
              "762       58       63     44           6      False  \n",
              "763      120       89     59           6      False  \n",
              "\n",
              "[112 rows x 12 columns]"
            ],
            "text/html": [
              "\n",
              "  <div id=\"df-ba234142-9b50-442c-910e-01d9277cb043\">\n",
              "    <div class=\"colab-df-container\">\n",
              "      <div>\n",
              "<style scoped>\n",
              "    .dataframe tbody tr th:only-of-type {\n",
              "        vertical-align: middle;\n",
              "    }\n",
              "\n",
              "    .dataframe tbody tr th {\n",
              "        vertical-align: top;\n",
              "    }\n",
              "\n",
              "    .dataframe thead th {\n",
              "        text-align: right;\n",
              "    }\n",
              "</style>\n",
              "<table border=\"1\" class=\"dataframe\">\n",
              "  <thead>\n",
              "    <tr style=\"text-align: right;\">\n",
              "      <th></th>\n",
              "      <th>Name</th>\n",
              "      <th>Type 1</th>\n",
              "      <th>Type 2</th>\n",
              "      <th>Total</th>\n",
              "      <th>HP</th>\n",
              "      <th>Attack</th>\n",
              "      <th>Defense</th>\n",
              "      <th>Sp. Atk</th>\n",
              "      <th>Sp. Def</th>\n",
              "      <th>Speed</th>\n",
              "      <th>Generation</th>\n",
              "      <th>Legendary</th>\n",
              "    </tr>\n",
              "  </thead>\n",
              "  <tbody>\n",
              "    <tr>\n",
              "      <th>9</th>\n",
              "      <td>Squirtle</td>\n",
              "      <td>Water</td>\n",
              "      <td></td>\n",
              "      <td>314</td>\n",
              "      <td>44</td>\n",
              "      <td>48</td>\n",
              "      <td>65</td>\n",
              "      <td>50</td>\n",
              "      <td>64</td>\n",
              "      <td>43</td>\n",
              "      <td>1</td>\n",
              "      <td>False</td>\n",
              "    </tr>\n",
              "    <tr>\n",
              "      <th>10</th>\n",
              "      <td>Wartortle</td>\n",
              "      <td>Water</td>\n",
              "      <td></td>\n",
              "      <td>405</td>\n",
              "      <td>59</td>\n",
              "      <td>63</td>\n",
              "      <td>80</td>\n",
              "      <td>65</td>\n",
              "      <td>80</td>\n",
              "      <td>58</td>\n",
              "      <td>1</td>\n",
              "      <td>False</td>\n",
              "    </tr>\n",
              "    <tr>\n",
              "      <th>11</th>\n",
              "      <td>Blastoise</td>\n",
              "      <td>Water</td>\n",
              "      <td></td>\n",
              "      <td>530</td>\n",
              "      <td>79</td>\n",
              "      <td>83</td>\n",
              "      <td>100</td>\n",
              "      <td>85</td>\n",
              "      <td>105</td>\n",
              "      <td>78</td>\n",
              "      <td>1</td>\n",
              "      <td>False</td>\n",
              "    </tr>\n",
              "    <tr>\n",
              "      <th>12</th>\n",
              "      <td>BlastoiseMega Blastoise</td>\n",
              "      <td>Water</td>\n",
              "      <td></td>\n",
              "      <td>630</td>\n",
              "      <td>79</td>\n",
              "      <td>103</td>\n",
              "      <td>120</td>\n",
              "      <td>135</td>\n",
              "      <td>115</td>\n",
              "      <td>78</td>\n",
              "      <td>1</td>\n",
              "      <td>False</td>\n",
              "    </tr>\n",
              "    <tr>\n",
              "      <th>59</th>\n",
              "      <td>Psyduck</td>\n",
              "      <td>Water</td>\n",
              "      <td></td>\n",
              "      <td>320</td>\n",
              "      <td>50</td>\n",
              "      <td>52</td>\n",
              "      <td>48</td>\n",
              "      <td>65</td>\n",
              "      <td>50</td>\n",
              "      <td>55</td>\n",
              "      <td>1</td>\n",
              "      <td>False</td>\n",
              "    </tr>\n",
              "    <tr>\n",
              "      <th>...</th>\n",
              "      <td>...</td>\n",
              "      <td>...</td>\n",
              "      <td>...</td>\n",
              "      <td>...</td>\n",
              "      <td>...</td>\n",
              "      <td>...</td>\n",
              "      <td>...</td>\n",
              "      <td>...</td>\n",
              "      <td>...</td>\n",
              "      <td>...</td>\n",
              "      <td>...</td>\n",
              "      <td>...</td>\n",
              "    </tr>\n",
              "    <tr>\n",
              "      <th>724</th>\n",
              "      <td>Froakie</td>\n",
              "      <td>Water</td>\n",
              "      <td></td>\n",
              "      <td>314</td>\n",
              "      <td>41</td>\n",
              "      <td>56</td>\n",
              "      <td>40</td>\n",
              "      <td>62</td>\n",
              "      <td>44</td>\n",
              "      <td>71</td>\n",
              "      <td>6</td>\n",
              "      <td>False</td>\n",
              "    </tr>\n",
              "    <tr>\n",
              "      <th>725</th>\n",
              "      <td>Frogadier</td>\n",
              "      <td>Water</td>\n",
              "      <td></td>\n",
              "      <td>405</td>\n",
              "      <td>54</td>\n",
              "      <td>63</td>\n",
              "      <td>52</td>\n",
              "      <td>83</td>\n",
              "      <td>56</td>\n",
              "      <td>97</td>\n",
              "      <td>6</td>\n",
              "      <td>False</td>\n",
              "    </tr>\n",
              "    <tr>\n",
              "      <th>726</th>\n",
              "      <td>Greninja</td>\n",
              "      <td>Water</td>\n",
              "      <td>Dark</td>\n",
              "      <td>530</td>\n",
              "      <td>72</td>\n",
              "      <td>95</td>\n",
              "      <td>67</td>\n",
              "      <td>103</td>\n",
              "      <td>71</td>\n",
              "      <td>122</td>\n",
              "      <td>6</td>\n",
              "      <td>False</td>\n",
              "    </tr>\n",
              "    <tr>\n",
              "      <th>762</th>\n",
              "      <td>Clauncher</td>\n",
              "      <td>Water</td>\n",
              "      <td></td>\n",
              "      <td>330</td>\n",
              "      <td>50</td>\n",
              "      <td>53</td>\n",
              "      <td>62</td>\n",
              "      <td>58</td>\n",
              "      <td>63</td>\n",
              "      <td>44</td>\n",
              "      <td>6</td>\n",
              "      <td>False</td>\n",
              "    </tr>\n",
              "    <tr>\n",
              "      <th>763</th>\n",
              "      <td>Clawitzer</td>\n",
              "      <td>Water</td>\n",
              "      <td></td>\n",
              "      <td>500</td>\n",
              "      <td>71</td>\n",
              "      <td>73</td>\n",
              "      <td>88</td>\n",
              "      <td>120</td>\n",
              "      <td>89</td>\n",
              "      <td>59</td>\n",
              "      <td>6</td>\n",
              "      <td>False</td>\n",
              "    </tr>\n",
              "  </tbody>\n",
              "</table>\n",
              "<p>112 rows × 12 columns</p>\n",
              "</div>\n",
              "      <button class=\"colab-df-convert\" onclick=\"convertToInteractive('df-ba234142-9b50-442c-910e-01d9277cb043')\"\n",
              "              title=\"Convert this dataframe to an interactive table.\"\n",
              "              style=\"display:none;\">\n",
              "        \n",
              "  <svg xmlns=\"http://www.w3.org/2000/svg\" height=\"24px\"viewBox=\"0 0 24 24\"\n",
              "       width=\"24px\">\n",
              "    <path d=\"M0 0h24v24H0V0z\" fill=\"none\"/>\n",
              "    <path d=\"M18.56 5.44l.94 2.06.94-2.06 2.06-.94-2.06-.94-.94-2.06-.94 2.06-2.06.94zm-11 1L8.5 8.5l.94-2.06 2.06-.94-2.06-.94L8.5 2.5l-.94 2.06-2.06.94zm10 10l.94 2.06.94-2.06 2.06-.94-2.06-.94-.94-2.06-.94 2.06-2.06.94z\"/><path d=\"M17.41 7.96l-1.37-1.37c-.4-.4-.92-.59-1.43-.59-.52 0-1.04.2-1.43.59L10.3 9.45l-7.72 7.72c-.78.78-.78 2.05 0 2.83L4 21.41c.39.39.9.59 1.41.59.51 0 1.02-.2 1.41-.59l7.78-7.78 2.81-2.81c.8-.78.8-2.07 0-2.86zM5.41 20L4 18.59l7.72-7.72 1.47 1.35L5.41 20z\"/>\n",
              "  </svg>\n",
              "      </button>\n",
              "      \n",
              "  <style>\n",
              "    .colab-df-container {\n",
              "      display:flex;\n",
              "      flex-wrap:wrap;\n",
              "      gap: 12px;\n",
              "    }\n",
              "\n",
              "    .colab-df-convert {\n",
              "      background-color: #E8F0FE;\n",
              "      border: none;\n",
              "      border-radius: 50%;\n",
              "      cursor: pointer;\n",
              "      display: none;\n",
              "      fill: #1967D2;\n",
              "      height: 32px;\n",
              "      padding: 0 0 0 0;\n",
              "      width: 32px;\n",
              "    }\n",
              "\n",
              "    .colab-df-convert:hover {\n",
              "      background-color: #E2EBFA;\n",
              "      box-shadow: 0px 1px 2px rgba(60, 64, 67, 0.3), 0px 1px 3px 1px rgba(60, 64, 67, 0.15);\n",
              "      fill: #174EA6;\n",
              "    }\n",
              "\n",
              "    [theme=dark] .colab-df-convert {\n",
              "      background-color: #3B4455;\n",
              "      fill: #D2E3FC;\n",
              "    }\n",
              "\n",
              "    [theme=dark] .colab-df-convert:hover {\n",
              "      background-color: #434B5C;\n",
              "      box-shadow: 0px 1px 3px 1px rgba(0, 0, 0, 0.15);\n",
              "      filter: drop-shadow(0px 1px 2px rgba(0, 0, 0, 0.3));\n",
              "      fill: #FFFFFF;\n",
              "    }\n",
              "  </style>\n",
              "\n",
              "      <script>\n",
              "        const buttonEl =\n",
              "          document.querySelector('#df-ba234142-9b50-442c-910e-01d9277cb043 button.colab-df-convert');\n",
              "        buttonEl.style.display =\n",
              "          google.colab.kernel.accessAllowed ? 'block' : 'none';\n",
              "\n",
              "        async function convertToInteractive(key) {\n",
              "          const element = document.querySelector('#df-ba234142-9b50-442c-910e-01d9277cb043');\n",
              "          const dataTable =\n",
              "            await google.colab.kernel.invokeFunction('convertToInteractive',\n",
              "                                                     [key], {});\n",
              "          if (!dataTable) return;\n",
              "\n",
              "          const docLinkHtml = 'Like what you see? Visit the ' +\n",
              "            '<a target=\"_blank\" href=https://colab.research.google.com/notebooks/data_table.ipynb>data table notebook</a>'\n",
              "            + ' to learn more about interactive tables.';\n",
              "          element.innerHTML = '';\n",
              "          dataTable['output_type'] = 'display_data';\n",
              "          await google.colab.output.renderOutput(dataTable, element);\n",
              "          const docLink = document.createElement('div');\n",
              "          docLink.innerHTML = docLinkHtml;\n",
              "          element.appendChild(docLink);\n",
              "        }\n",
              "      </script>\n",
              "    </div>\n",
              "  </div>\n",
              "  "
            ]
          },
          "metadata": {},
          "execution_count": 84
        }
      ]
    },
    {
      "cell_type": "markdown",
      "source": [
        "-- 가장 힘이 쎈 몬스터는 누구일까?\n",
        "\n",
        "```\n",
        "max(df1['컬럼명'])\n",
        "df1[df1['컬럼명'] == max(df1['컬럼명'])]\n",
        "```"
      ],
      "metadata": {
        "id": "Na0om3af8k0f"
      }
    },
    {
      "cell_type": "code",
      "source": [
        "#특정 컬럼에서 가장 큰 값 가져오기\n",
        "\n",
        "max(df1['HP'])"
      ],
      "metadata": {
        "colab": {
          "base_uri": "https://localhost:8080/"
        },
        "id": "nrVr3wkd8ene",
        "outputId": "72e73150-c1d3-4375-ecfd-de3b0b55cc1c"
      },
      "execution_count": null,
      "outputs": [
        {
          "output_type": "execute_result",
          "data": {
            "text/plain": [
              "255"
            ]
          },
          "metadata": {},
          "execution_count": 85
        }
      ]
    },
    {
      "cell_type": "code",
      "source": [
        "#가장 힘이 쎈 포켓몬스터는 누구일까?\n",
        "\n",
        "df1[df1['HP'] == max(df1['HP'])]"
      ],
      "metadata": {
        "colab": {
          "base_uri": "https://localhost:8080/",
          "height": 80
        },
        "id": "Ledhvp7WBxjL",
        "outputId": "c40c5411-147e-4a3e-fd2f-63666d3cc507"
      },
      "execution_count": null,
      "outputs": [
        {
          "output_type": "execute_result",
          "data": {
            "text/plain": [
              "        Name  Type 1 Type 2  Total   HP  Attack  Defense  Sp. Atk  Sp. Def  \\\n",
              "261  Blissey  Normal           540  255      10       10       75      135   \n",
              "\n",
              "     Speed  Generation  Legendary  \n",
              "261     55           2      False  "
            ],
            "text/html": [
              "\n",
              "  <div id=\"df-7e173c4d-d653-4f80-8a1a-03c40b12b30a\">\n",
              "    <div class=\"colab-df-container\">\n",
              "      <div>\n",
              "<style scoped>\n",
              "    .dataframe tbody tr th:only-of-type {\n",
              "        vertical-align: middle;\n",
              "    }\n",
              "\n",
              "    .dataframe tbody tr th {\n",
              "        vertical-align: top;\n",
              "    }\n",
              "\n",
              "    .dataframe thead th {\n",
              "        text-align: right;\n",
              "    }\n",
              "</style>\n",
              "<table border=\"1\" class=\"dataframe\">\n",
              "  <thead>\n",
              "    <tr style=\"text-align: right;\">\n",
              "      <th></th>\n",
              "      <th>Name</th>\n",
              "      <th>Type 1</th>\n",
              "      <th>Type 2</th>\n",
              "      <th>Total</th>\n",
              "      <th>HP</th>\n",
              "      <th>Attack</th>\n",
              "      <th>Defense</th>\n",
              "      <th>Sp. Atk</th>\n",
              "      <th>Sp. Def</th>\n",
              "      <th>Speed</th>\n",
              "      <th>Generation</th>\n",
              "      <th>Legendary</th>\n",
              "    </tr>\n",
              "  </thead>\n",
              "  <tbody>\n",
              "    <tr>\n",
              "      <th>261</th>\n",
              "      <td>Blissey</td>\n",
              "      <td>Normal</td>\n",
              "      <td></td>\n",
              "      <td>540</td>\n",
              "      <td>255</td>\n",
              "      <td>10</td>\n",
              "      <td>10</td>\n",
              "      <td>75</td>\n",
              "      <td>135</td>\n",
              "      <td>55</td>\n",
              "      <td>2</td>\n",
              "      <td>False</td>\n",
              "    </tr>\n",
              "  </tbody>\n",
              "</table>\n",
              "</div>\n",
              "      <button class=\"colab-df-convert\" onclick=\"convertToInteractive('df-7e173c4d-d653-4f80-8a1a-03c40b12b30a')\"\n",
              "              title=\"Convert this dataframe to an interactive table.\"\n",
              "              style=\"display:none;\">\n",
              "        \n",
              "  <svg xmlns=\"http://www.w3.org/2000/svg\" height=\"24px\"viewBox=\"0 0 24 24\"\n",
              "       width=\"24px\">\n",
              "    <path d=\"M0 0h24v24H0V0z\" fill=\"none\"/>\n",
              "    <path d=\"M18.56 5.44l.94 2.06.94-2.06 2.06-.94-2.06-.94-.94-2.06-.94 2.06-2.06.94zm-11 1L8.5 8.5l.94-2.06 2.06-.94-2.06-.94L8.5 2.5l-.94 2.06-2.06.94zm10 10l.94 2.06.94-2.06 2.06-.94-2.06-.94-.94-2.06-.94 2.06-2.06.94z\"/><path d=\"M17.41 7.96l-1.37-1.37c-.4-.4-.92-.59-1.43-.59-.52 0-1.04.2-1.43.59L10.3 9.45l-7.72 7.72c-.78.78-.78 2.05 0 2.83L4 21.41c.39.39.9.59 1.41.59.51 0 1.02-.2 1.41-.59l7.78-7.78 2.81-2.81c.8-.78.8-2.07 0-2.86zM5.41 20L4 18.59l7.72-7.72 1.47 1.35L5.41 20z\"/>\n",
              "  </svg>\n",
              "      </button>\n",
              "      \n",
              "  <style>\n",
              "    .colab-df-container {\n",
              "      display:flex;\n",
              "      flex-wrap:wrap;\n",
              "      gap: 12px;\n",
              "    }\n",
              "\n",
              "    .colab-df-convert {\n",
              "      background-color: #E8F0FE;\n",
              "      border: none;\n",
              "      border-radius: 50%;\n",
              "      cursor: pointer;\n",
              "      display: none;\n",
              "      fill: #1967D2;\n",
              "      height: 32px;\n",
              "      padding: 0 0 0 0;\n",
              "      width: 32px;\n",
              "    }\n",
              "\n",
              "    .colab-df-convert:hover {\n",
              "      background-color: #E2EBFA;\n",
              "      box-shadow: 0px 1px 2px rgba(60, 64, 67, 0.3), 0px 1px 3px 1px rgba(60, 64, 67, 0.15);\n",
              "      fill: #174EA6;\n",
              "    }\n",
              "\n",
              "    [theme=dark] .colab-df-convert {\n",
              "      background-color: #3B4455;\n",
              "      fill: #D2E3FC;\n",
              "    }\n",
              "\n",
              "    [theme=dark] .colab-df-convert:hover {\n",
              "      background-color: #434B5C;\n",
              "      box-shadow: 0px 1px 3px 1px rgba(0, 0, 0, 0.15);\n",
              "      filter: drop-shadow(0px 1px 2px rgba(0, 0, 0, 0.3));\n",
              "      fill: #FFFFFF;\n",
              "    }\n",
              "  </style>\n",
              "\n",
              "      <script>\n",
              "        const buttonEl =\n",
              "          document.querySelector('#df-7e173c4d-d653-4f80-8a1a-03c40b12b30a button.colab-df-convert');\n",
              "        buttonEl.style.display =\n",
              "          google.colab.kernel.accessAllowed ? 'block' : 'none';\n",
              "\n",
              "        async function convertToInteractive(key) {\n",
              "          const element = document.querySelector('#df-7e173c4d-d653-4f80-8a1a-03c40b12b30a');\n",
              "          const dataTable =\n",
              "            await google.colab.kernel.invokeFunction('convertToInteractive',\n",
              "                                                     [key], {});\n",
              "          if (!dataTable) return;\n",
              "\n",
              "          const docLinkHtml = 'Like what you see? Visit the ' +\n",
              "            '<a target=\"_blank\" href=https://colab.research.google.com/notebooks/data_table.ipynb>data table notebook</a>'\n",
              "            + ' to learn more about interactive tables.';\n",
              "          element.innerHTML = '';\n",
              "          dataTable['output_type'] = 'display_data';\n",
              "          await google.colab.output.renderOutput(dataTable, element);\n",
              "          const docLink = document.createElement('div');\n",
              "          docLink.innerHTML = docLinkHtml;\n",
              "          element.appendChild(docLink);\n",
              "        }\n",
              "      </script>\n",
              "    </div>\n",
              "  </div>\n",
              "  "
            ]
          },
          "metadata": {},
          "execution_count": 86
        }
      ]
    },
    {
      "cell_type": "code",
      "source": [
        "df['HP'] == max(df1['HP'])"
      ],
      "metadata": {
        "colab": {
          "base_uri": "https://localhost:8080/"
        },
        "id": "ruFL_ZMP5DyA",
        "outputId": "6371f56c-2c5f-40f6-d312-0ff6bdd8a2e0"
      },
      "execution_count": null,
      "outputs": [
        {
          "output_type": "execute_result",
          "data": {
            "text/plain": [
              "0      False\n",
              "1      False\n",
              "2      False\n",
              "3      False\n",
              "4      False\n",
              "       ...  \n",
              "795    False\n",
              "796    False\n",
              "797    False\n",
              "798    False\n",
              "799    False\n",
              "Name: HP, Length: 800, dtype: bool"
            ]
          },
          "metadata": {},
          "execution_count": 87
        }
      ]
    },
    {
      "cell_type": "markdown",
      "source": [
        "미션.1 전설의 포켓몬은 어떤 것이 있을까?"
      ],
      "metadata": {
        "id": "xxT7D8JISTZh"
      }
    },
    {
      "cell_type": "code",
      "source": [
        "df4 = df1[df1['Legendary'] == True]\n",
        "df4['Type 1'].value_counts()"
      ],
      "metadata": {
        "id": "rIh8ygfESV65",
        "colab": {
          "base_uri": "https://localhost:8080/"
        },
        "outputId": "6547b9e8-6649-4436-b080-444ec71bf252"
      },
      "execution_count": null,
      "outputs": [
        {
          "output_type": "execute_result",
          "data": {
            "text/plain": [
              "Psychic     14\n",
              "Dragon      12\n",
              "Fire         5\n",
              "Electric     4\n",
              "Water        4\n",
              "Rock         4\n",
              "Steel        4\n",
              "Ground       4\n",
              "Grass        3\n",
              "Ice          2\n",
              "Normal       2\n",
              "Ghost        2\n",
              "Dark         2\n",
              "Flying       2\n",
              "Fairy        1\n",
              "Name: Type 1, dtype: int64"
            ]
          },
          "metadata": {},
          "execution_count": 88
        }
      ]
    },
    {
      "cell_type": "markdown",
      "source": [
        "-- 포켓몬스터 타입별 시각화\n",
        "\n",
        "-- 사용할 라이브러리 : Matplotlib\n",
        "```\n",
        "import matplotlib as plt\n",
        "```"
      ],
      "metadata": {
        "id": "Ah0x7OKyFhKr"
      }
    },
    {
      "cell_type": "code",
      "source": [
        "import matplotlib.pyplot as plt\n",
        "\n",
        "df2 = df1['Type 1'].value_counts()\n",
        "plt.pie(df2)\n",
        "plt.show()"
      ],
      "metadata": {
        "id": "jH5P3sAhMBtm",
        "colab": {
          "base_uri": "https://localhost:8080/",
          "height": 248
        },
        "outputId": "6b1aa037-afe2-4225-8d3f-c70a0cefbef1"
      },
      "execution_count": null,
      "outputs": [
        {
          "output_type": "display_data",
          "data": {
            "text/plain": [
              "<Figure size 432x288 with 1 Axes>"
            ],
            "image/png": "[encoded data removed]"
          },
          "metadata": {}
        }
      ]
    },
    {
      "cell_type": "markdown",
      "source": [
        "이름을 붙이기 위해서 필요한 것\n",
        "\n",
        "-- index - df2.index\n",
        "\n",
        "-- labels - plt.pie(df2, labels=df2.index)\n",
        "```\n",
        "df2.index\n",
        "````"
      ],
      "metadata": {
        "id": "7TuxVI0cMMJg"
      }
    },
    {
      "cell_type": "code",
      "source": [
        "print(df2.index)\n",
        "len(df2.index)"
      ],
      "metadata": {
        "colab": {
          "base_uri": "https://localhost:8080/"
        },
        "id": "M6FU8MmLMFrp",
        "outputId": "d9305ae0-f231-460a-dce8-a44054022589"
      },
      "execution_count": null,
      "outputs": [
        {
          "output_type": "stream",
          "name": "stdout",
          "text": [
            "Index(['Water', 'Normal', 'Grass', 'Bug', 'Psychic', 'Fire', 'Electric',\n",
            "       'Rock', 'Dragon', 'Ground', 'Ghost', 'Dark', 'Poison', 'Steel',\n",
            "       'Fighting', 'Ice', 'Fairy', 'Flying'],\n",
            "      dtype='object')\n"
          ]
        },
        {
          "output_type": "execute_result",
          "data": {
            "text/plain": [
              "18"
            ]
          },
          "metadata": {},
          "execution_count": 90
        }
      ]
    },
    {
      "cell_type": "code",
      "source": [
        "import matplotlib.pyplot as plt\n",
        "\n",
        "df2 = df1['Type 1'].value_counts()\n",
        "plt.pie(df2, labels=df2.index)\n",
        "plt.show()"
      ],
      "metadata": {
        "id": "eJx3GVbnFXz1",
        "colab": {
          "base_uri": "https://localhost:8080/",
          "height": 248
        },
        "outputId": "8d04e7ce-2ec2-4ff8-bde8-a7c29f538bbb"
      },
      "execution_count": null,
      "outputs": [
        {
          "output_type": "display_data",
          "data": {
            "text/plain": [
              "<Figure size 432x288 with 1 Axes>"
            ],
            "image/png": "[encoded data removed]"
          },
          "metadata": {}
        }
      ]
    },
    {
      "cell_type": "code",
      "source": [
        "#explode 옵션 추가하기 -  튀어나와 있는 듯한 모양\n",
        "len(df2.index)"
      ],
      "metadata": {
        "colab": {
          "base_uri": "https://localhost:8080/"
        },
        "id": "eXPNRBP1H5R_",
        "outputId": "b8cb4c1d-7012-415c-c3de-6cdce5dc00c8"
      },
      "execution_count": null,
      "outputs": [
        {
          "output_type": "execute_result",
          "data": {
            "text/plain": [
              "18"
            ]
          },
          "metadata": {},
          "execution_count": 92
        }
      ]
    },
    {
      "cell_type": "code",
      "source": [
        "#explode 옵션 추가하기3\n",
        "#특정 타입의 정확한 위치 확인을 위해\n",
        "df2.index"
      ],
      "metadata": {
        "colab": {
          "base_uri": "https://localhost:8080/"
        },
        "id": "tgCOQd67XZe2",
        "outputId": "440209b7-8e96-4791-ff3c-38a7ccaaea79"
      },
      "execution_count": null,
      "outputs": [
        {
          "output_type": "execute_result",
          "data": {
            "text/plain": [
              "Index(['Water', 'Normal', 'Grass', 'Bug', 'Psychic', 'Fire', 'Electric',\n",
              "       'Rock', 'Dragon', 'Ground', 'Ghost', 'Dark', 'Poison', 'Steel',\n",
              "       'Fighting', 'Ice', 'Fairy', 'Flying'],\n",
              "      dtype='object')"
            ]
          },
          "metadata": {},
          "execution_count": 93
        }
      ]
    },
    {
      "cell_type": "code",
      "source": [
        "#explode 옵션 추가하기3\n",
        "#위 코드셀과 같음, 둘 중에 하나 선택\n",
        "list_ex = [0.2, 0.1, 0.1, 0.1, 0.2, 0.1, 0.1, 0.1, 0.1,\n",
        "           0.1, 0.1, 0.1, 0.1, 0.1, 0.1, 0.1, 0.1, 0.1]"
      ],
      "metadata": {
        "id": "4u428ma2Wq_K"
      },
      "execution_count": null,
      "outputs": []
    },
    {
      "cell_type": "markdown",
      "source": [
        "explode 옵션 추가하기\n",
        "\n",
        "list_ex = [0.2, 0.1, 0.1, 0.1, 0.2, 0.1, 0.1, 0.1, 0.1,\n",
        "           0.1, 0.1, 0.1, 0.1, 0.1, 0.1, 0.1, 0.1, 0.1]"
      ],
      "metadata": {
        "id": "SmHW9fu-wo56"
      }
    },
    {
      "cell_type": "code",
      "source": [
        "import matplotlib.pyplot as plt\n",
        "\n",
        "df2 = df1['Type 1'].value_counts()\n",
        "plt.pie(df2, labels=df2.index, explode=list_ex)\n",
        "plt.show()"
      ],
      "metadata": {
        "id": "1ngDA8ilWyQZ",
        "colab": {
          "base_uri": "https://localhost:8080/",
          "height": 249
        },
        "outputId": "0d866123-bb62-4e7b-89ad-da29342b4c55"
      },
      "execution_count": null,
      "outputs": [
        {
          "output_type": "display_data",
          "data": {
            "text/plain": [
              "<Figure size 432x288 with 1 Axes>"
            ],
            "image/png": "[encoded data removed]"
          },
          "metadata": {}
        }
      ]
    },
    {
      "cell_type": "markdown",
      "source": [
        "백분율 표시하기\n",
        "크기 조절하기\n",
        "그래프 타이틀 만들기\n",
        "```\n",
        "plt.pie(df2, labels=df2.index, explode=list_ex, autopct='%.1f%%')\n",
        "```"
      ],
      "metadata": {
        "id": "IPW-S8cJYaOy"
      }
    },
    {
      "cell_type": "code",
      "source": [
        "#그래프 크기 키우기\n",
        "#shadow 옵션 적용해서 입체감 주기\n",
        "#그래프 제목 추가하기\n",
        "import matplotlib.pyplot as plt\n",
        "\n",
        "plt.figure(figsize=(9, 9))\n",
        "\n",
        "df2 = df1['Type 1'].value_counts()\n",
        "plt.title('Percentage of Pokemon type')\n",
        "plt.pie(df2,\n",
        "        labels=df2.index,\n",
        "        explode=list_ex,\n",
        "        autopct='%.1f%%',\n",
        "        shadow=True)\n",
        "plt.show()"
      ],
      "metadata": {
        "id": "HfXsB0wzYnr9",
        "colab": {
          "base_uri": "https://localhost:8080/",
          "height": 536
        },
        "outputId": "468ac007-2a29-4e75-f68a-2991964fbae3"
      },
      "execution_count": null,
      "outputs": [
        {
          "output_type": "display_data",
          "data": {
            "text/plain": [
              "<Figure size 648x648 with 1 Axes>"
            ],
            "image/png": "[encoded data removed]"
          },
          "metadata": {}
        }
      ]
    },
    {
      "cell_type": "code",
      "source": [
        "#배포용\n",
        "\n",
        "import matplotlib.pyplot as plt\n",
        "\n",
        "#explode 옵션 추가하기3\n",
        "list_ex = [0.2, 0.1, 0.1, 0.1, 0.2, 0.1, 0.1, 0.1, 0.1,\n",
        "           0.1, 0.1, 0.1, 0.1, 0.1, 0.1, 0.1, 0.1, 0.1]\n",
        "\n",
        "plt.figure(figsize=(9, 9))\n",
        "\n",
        "df2 = df1['Type 1'].value_counts()\n",
        "plt.title('Percentage of Pokemon type')\n",
        "plt.pie(df2,\n",
        "        labels=df2.index,\n",
        "        explode=list_ex,\n",
        "        autopct='%.1f%%',\n",
        "        shadow=True)\n",
        "plt.show()\n"
      ],
      "metadata": {
        "id": "aFmhbPzHvRXQ",
        "colab": {
          "base_uri": "https://localhost:8080/",
          "height": 536
        },
        "outputId": "784d9303-e7f1-4e82-88a8-1856039d781f"
      },
      "execution_count": null,
      "outputs": [
        {
          "output_type": "display_data",
          "data": {
            "text/plain": [
              "<Figure size 648x648 with 1 Axes>"
            ],
            "image/png": "[encoded data removed]"
          },
          "metadata": {}
        }
      ]
    },
    {
      "cell_type": "markdown",
      "source": [
        "워드클라우드 만들기\n",
        "1. 사용라이브러리\n",
        "    - WordCloud\n",
        "    - numpy\n",
        "    - PIL\n"
      ],
      "metadata": {
        "id": "bZ42ciHbEA6F"
      }
    },
    {
      "cell_type": "code",
      "source": [
        "from wordcloud import WordCloud\n",
        "import numpy as np\n",
        "import PIL\n",
        "\n",
        "#Type 1 컬럼을 딕셔너리 형태로 저장한다\n",
        "dict_data = df1['Type 1'].value_counts()\n",
        "print(dict_data)\n",
        "\n",
        "#저장할 이미지 파일을 불러와 numpy 배열 형태로 변환한다\n",
        "img = PIL.Image.open('/content/up.png')\n",
        "img_array = np.array(img)\n",
        "\n",
        "wc = WordCloud(background_color='white', mask= img_array)\n",
        "wc = wc.generate_from_frequencies(dict_data)\n",
        "\n",
        "#워드클라우드 형태로 만들어진 데이터를 파일로 저장한다\n",
        "wc.to_file('/content/wc_up.png')"
      ],
      "metadata": {
        "id": "mA8VA-RSE0lD",
        "colab": {
          "base_uri": "https://localhost:8080/"
        },
        "outputId": "8da4d320-0781-4898-b83d-118ad7348c38"
      },
      "execution_count": null,
      "outputs": [
        {
          "output_type": "stream",
          "name": "stdout",
          "text": [
            "Water       112\n",
            "Normal       98\n",
            "Grass        70\n",
            "Bug          69\n",
            "Psychic      57\n",
            "Fire         52\n",
            "Electric     44\n",
            "Rock         44\n",
            "Dragon       32\n",
            "Ground       32\n",
            "Ghost        32\n",
            "Dark         31\n",
            "Poison       28\n",
            "Steel        27\n",
            "Fighting     27\n",
            "Ice          24\n",
            "Fairy        17\n",
            "Flying        4\n",
            "Name: Type 1, dtype: int64\n"
          ]
        },
        {
          "output_type": "execute_result",
          "data": {
            "text/plain": [
              "<wordcloud.wordcloud.WordCloud at 0x7f0f376091f0>"
            ]
          },
          "metadata": {},
          "execution_count": 98
        }
      ]
    },
    {
      "cell_type": "code",
      "source": [
        "import matplotlib as mpl\n",
        "import matplotlib.pyplot as plt\n",
        "!apt -qq -y install fonts-nanum                             # 한글 폰트 설치\n",
        "# 해당 폰트가 기본 폰트가 되도록 설정\n",
        "import matplotlib.font_manager as fm                        # 한글 폰트 경로 설정\n",
        "fontpath = '/usr/share/fonts/truetype/nanum/NanumBarunGothic.ttf'\n",
        "font = fm.FontProperties(fname = fontpath, size = 9)\n",
        "plt.rc('font', family = 'NanumBarunGothic')                 # 코랩의 한글 폰트를 '나눔바른고딕'으로 설정\n",
        "mpl.font_manager._rebuild( )"
      ],
      "metadata": {
        "id": "_FCJU6mYJVKd",
        "colab": {
          "base_uri": "https://localhost:8080/"
        },
        "outputId": "ae782ea4-0083-4241-8d4d-539e13fe6590"
      },
      "execution_count": null,
      "outputs": [
        {
          "output_type": "stream",
          "name": "stdout",
          "text": [
            "fonts-nanum is already the newest version (20180306-3).\n",
            "0 upgraded, 0 newly installed, 0 to remove and 27 not upgraded.\n"
          ]
        }
      ]
    },
    {
      "cell_type": "code",
      "source": [
        "#미션.2\n",
        "\n",
        "from wordcloud import WordCloud\n",
        "import numpy as np\n",
        "import PIL\n",
        "from collections import Counter\n",
        "\n",
        "fp = open('/content/아기상어.txt', 'r', encoding='utf-8')\n",
        "\n",
        "lines = []\n",
        "\n",
        "for line in fp.readlines():\n",
        "  if len(line) > 0:\n",
        "      lines.append(line.replace('\\n',' '))\n",
        "\n",
        "dict_data = Counter(lines)\n",
        "\n",
        "img = PIL.Image.open('/content/up.png')\n",
        "img_array = np.array(img)\n",
        "\n",
        "wc = WordCloud(font_path='NanumGothic.ttf', background_color='white', mask= img_array)\n",
        "wc = wc.generate_from_frequencies(dict_data)\n",
        "wc.to_file('/content/wc_상어.png')"
      ],
      "metadata": {
        "id": "IYEDoQ8PI5Nz",
        "colab": {
          "base_uri": "https://localhost:8080/"
        },
        "outputId": "e49cad33-b54d-4675-e5cd-96bffe52acff"
      },
      "execution_count": null,
      "outputs": [
        {
          "output_type": "execute_result",
          "data": {
            "text/plain": [
              "<wordcloud.wordcloud.WordCloud at 0x7f0f374dc700>"
            ]
          },
          "metadata": {},
          "execution_count": 100
        }
      ]
    }
  ]
}